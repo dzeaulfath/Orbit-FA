{
  "nbformat": 4,
  "nbformat_minor": 0,
  "metadata": {
    "colab": {
      "name": "RB_05_Clean_Code.ipynb",
      "provenance": [],
      "collapsed_sections": []
    },
    "interpreter": {
      "hash": "b3ba2566441a7c06988d0923437866b63cedc61552a5af99d1f4fb67d367b25f"
    },
    "kernelspec": {
      "display_name": "Python 3",
      "language": "python",
      "name": "python3"
    },
    "language_info": {
      "codemirror_mode": {
        "name": "ipython",
        "version": 3
      },
      "file_extension": ".py",
      "mimetype": "text/x-python",
      "name": "python",
      "nbconvert_exporter": "python",
      "pygments_lexer": "ipython3",
      "version": "3.8.5"
    }
  },
  "cells": [
    {
      "cell_type": "markdown",
      "metadata": {
        "id": "fC7a-HmIj4kX"
      },
      "source": [
        "# Clean Code\n"
      ]
    },
    {
      "cell_type": "markdown",
      "metadata": {
        "id": "QIKPKdJuj4kf"
      },
      "source": [
        "# Daftar Pembahasan Materi\n",
        "- Pedoman penulisan program python menggunakan PEP8\n",
        "- Input, proses (pengolahan kolom), output file ke dalam program (csv dan excel)\n",
        "- Python list functions | Fungsi - fungsi pada list python\n",
        "- Pembahasan dan contoh program Stack (FIFO) sederhana\n",
        "- Pembahasan dan contoh program Queue (LIFO) sederhana"
      ]
    },
    {
      "cell_type": "markdown",
      "metadata": {
        "id": "VWAAlTW_j4kg"
      },
      "source": [
        "## Input, Process, Output dataframe\n",
        "- Membuat DataFrame manual -> export ke csv dan xlsx (excel)\n",
        "- Latihan membuat DataFrame (Data 5 calon anggota koperasi sukanabung)"
      ]
    },
    {
      "cell_type": "code",
      "metadata": {
        "id": "UgB2RzV3j4kh"
      },
      "source": [
        "import pandas as pd"
      ],
      "execution_count": null,
      "outputs": []
    },
    {
      "cell_type": "code",
      "metadata": {
        "colab": {
          "base_uri": "https://localhost:8080/"
        },
        "id": "cJmJnnCgj4kj",
        "outputId": "286c63e0-1110-4273-f984-49cb5ceee340"
      },
      "source": [
        "df1 = pd.DataFrame([\n",
        "  [\"Andien\", \"P\", 21, \"Belum Menikah\"],\n",
        "  [\"Raka\", \"L\", 25, \"Belum Menikah\"],\n",
        "  [\"Bobby\", \"L\", 23, \"Sudah Menikah\"]\n",
        "])\n",
        "\n",
        "df1.columns = [\"Nama\", \"Jenis Kelamin\", \"Usia\", \"Status\"]\n",
        "\n",
        "df1"
      ],
      "execution_count": null,
      "outputs": [
        {
          "data": {
            "text/html": [
              "<div>\n",
              "<style scoped>\n",
              "    .dataframe tbody tr th:only-of-type {\n",
              "        vertical-align: middle;\n",
              "    }\n",
              "\n",
              "    .dataframe tbody tr th {\n",
              "        vertical-align: top;\n",
              "    }\n",
              "\n",
              "    .dataframe thead th {\n",
              "        text-align: right;\n",
              "    }\n",
              "</style>\n",
              "<table border=\"1\" class=\"dataframe\">\n",
              "  <thead>\n",
              "    <tr style=\"text-align: right;\">\n",
              "      <th></th>\n",
              "      <th>Nama</th>\n",
              "      <th>Jenis Kelamin</th>\n",
              "      <th>Usia</th>\n",
              "      <th>Status</th>\n",
              "    </tr>\n",
              "  </thead>\n",
              "  <tbody>\n",
              "    <tr>\n",
              "      <th>0</th>\n",
              "      <td>Andien</td>\n",
              "      <td>P</td>\n",
              "      <td>21</td>\n",
              "      <td>Belum Menikah</td>\n",
              "    </tr>\n",
              "    <tr>\n",
              "      <th>1</th>\n",
              "      <td>Raka</td>\n",
              "      <td>L</td>\n",
              "      <td>25</td>\n",
              "      <td>Belum Menikah</td>\n",
              "    </tr>\n",
              "    <tr>\n",
              "      <th>2</th>\n",
              "      <td>Bobby</td>\n",
              "      <td>L</td>\n",
              "      <td>23</td>\n",
              "      <td>Sudah Menikah</td>\n",
              "    </tr>\n",
              "  </tbody>\n",
              "</table>\n",
              "</div>"
            ],
            "text/plain": [
              "     Nama Jenis Kelamin  Usia         Status\n",
              "0  Andien             P    21  Belum Menikah\n",
              "1    Raka             L    25  Belum Menikah\n",
              "2   Bobby             L    23  Sudah Menikah"
            ]
          },
          "execution_count": 2,
          "metadata": {},
          "output_type": "execute_result"
        }
      ]
    },
    {
      "cell_type": "code",
      "metadata": {
        "id": "ZbSGwYJHj4kn"
      },
      "source": [
        "df1.to_csv('anggota_koperasi_sukanabung.csv')\n",
        "df1.to_excel('anggota_koperasi_sukanabung.xlsx')"
      ],
      "execution_count": null,
      "outputs": []
    },
    {
      "cell_type": "markdown",
      "metadata": {
        "id": "6_OwAS0Ij4ko"
      },
      "source": [
        "## Fungsi - Fungsi List pada Python\n",
        "- Quiz, studi kasus nyata"
      ]
    },
    {
      "cell_type": "markdown",
      "metadata": {
        "id": "MMU9bi85j4kp"
      },
      "source": [
        "- Bahas tentang fungsi yg ada di list (struktur data) dulu\n",
        "    - `append()`  # Menambahkan elemen di akhir list (hanya 1)\n",
        "    - `extend()`  # Menambahkan banyak elemen di akhir list\n",
        "    - `index()`   # Mencari index dari elemen tertentu yang ada di list\n",
        "    - `max(list)` # Mencari elemen terbesar dari list\n",
        "    - `min(list)` # Mencari elemen terkecil dari list\n",
        "    - `len(list)` # Menghitung jumlah elemen dalam list\n",
        "    - `clear()`   # Menghapus semua elemen dari list\n",
        "    - `insert()`  # Memasukkan elemen baru pada urutan tertentu\n",
        "    - `count()`   # Menghitung jumlah elemen dengan nilai tertentu\n",
        "    - `pop()`     # Menghapus elemen terakhir dari list\n",
        "    - `remove()`  # Menghapus elemen dengan nilai tertentu\n",
        "    - `reverse()` # Membalik urutan elemen dalam list\n",
        "    - `copy()`    # Menduplikat elemen dalam list ke dalam variabel baru\n",
        "    - `sort()`    # Mengurutkan (sorting)\n",
        "\n",
        "- TODO: Teori dan ilustrasi"
      ]
    },
    {
      "cell_type": "code",
      "metadata": {
        "id": "mCBAa00Yj4kq"
      },
      "source": [
        "tumpukan_warna = ['Biru', 'Merah', 'Hijau', 'Ungu', 'Hitam']"
      ],
      "execution_count": null,
      "outputs": []
    },
    {
      "cell_type": "code",
      "metadata": {
        "colab": {
          "base_uri": "https://localhost:8080/"
        },
        "id": "CA4LTCM9j4kq",
        "outputId": "30e4ff86-81d8-4cc8-cd8e-88d6307d5432"
      },
      "source": [
        "# append, menambahkan nilai di akhir list (hanya 1 nilai saja)\n",
        "tumpukan_warna.append('Jingga')\n",
        "tumpukan_warna"
      ],
      "execution_count": null,
      "outputs": [
        {
          "data": {
            "text/plain": [
              "['Biru', 'Merah', 'Hijau', 'Ungu', 'Hitam', 'Jingga']"
            ]
          },
          "execution_count": 2,
          "metadata": {},
          "output_type": "execute_result"
        }
      ]
    },
    {
      "cell_type": "code",
      "metadata": {
        "colab": {
          "base_uri": "https://localhost:8080/"
        },
        "id": "KuOZo1xvj4kr",
        "outputId": "3b273a3c-bb5b-4060-b289-1b753ffebf76"
      },
      "source": [
        "# extend, menambahkan banyak elemen di akhir list\n",
        "tumpukan_warna.extend(['Putih', 'Tosca'])\n",
        "tumpukan_warna"
      ],
      "execution_count": null,
      "outputs": [
        {
          "data": {
            "text/plain": [
              "['Biru', 'Merah', 'Hijau', 'Ungu', 'Hitam', 'Jingga', 'Putih', 'Tosca']"
            ]
          },
          "execution_count": 3,
          "metadata": {},
          "output_type": "execute_result"
        }
      ]
    },
    {
      "cell_type": "code",
      "metadata": {
        "colab": {
          "base_uri": "https://localhost:8080/"
        },
        "id": "ou_wwx7Hj4ks",
        "outputId": "9f415c54-99d2-484d-e9d4-7cad16901b53"
      },
      "source": [
        "# index, mencari index dari nilai tertentu yang ada di list\n",
        "tumpukan_warna.index('Hijau')"
      ],
      "execution_count": null,
      "outputs": [
        {
          "data": {
            "text/plain": [
              "2"
            ]
          },
          "execution_count": 4,
          "metadata": {},
          "output_type": "execute_result"
        }
      ]
    },
    {
      "cell_type": "code",
      "metadata": {
        "colab": {
          "base_uri": "https://localhost:8080/",
          "height": 35
        },
        "id": "E-ORjbcjj4ks",
        "outputId": "44fc2bdb-f25d-46d0-9897-cca862d076d2"
      },
      "source": [
        "# min, mencari nilai terkecil dari list\n",
        "min(tumpukan_warna)"
      ],
      "execution_count": null,
      "outputs": [
        {
          "data": {
            "application/vnd.google.colaboratory.intrinsic+json": {
              "type": "string"
            },
            "text/plain": [
              "'Biru'"
            ]
          },
          "execution_count": 5,
          "metadata": {},
          "output_type": "execute_result"
        }
      ]
    },
    {
      "cell_type": "code",
      "metadata": {
        "colab": {
          "base_uri": "https://localhost:8080/",
          "height": 35
        },
        "id": "i5BB2zL4j4kt",
        "outputId": "aa13353d-578c-4503-df33-05855c13e99a"
      },
      "source": [
        "# max, mencari nilai terbesar dari list\n",
        "max(tumpukan_warna)"
      ],
      "execution_count": null,
      "outputs": [
        {
          "data": {
            "application/vnd.google.colaboratory.intrinsic+json": {
              "type": "string"
            },
            "text/plain": [
              "'Ungu'"
            ]
          },
          "execution_count": 6,
          "metadata": {},
          "output_type": "execute_result"
        }
      ]
    },
    {
      "cell_type": "code",
      "metadata": {
        "colab": {
          "base_uri": "https://localhost:8080/"
        },
        "id": "pmG6XlAEz7gz",
        "outputId": "35160e70-a633-48c8-fd83-cb6afe612fe3"
      },
      "source": [
        "#sort, mengurutkan\n",
        "tumpukan_warna.sort()\n",
        "print(tumpukan_warna)"
      ],
      "execution_count": null,
      "outputs": [
        {
          "name": "stdout",
          "output_type": "stream",
          "text": [
            "['Biru', 'Hijau', 'Hitam', 'Jingga', 'Merah', 'Putih', 'Tosca', 'Ungu']\n"
          ]
        }
      ]
    },
    {
      "cell_type": "code",
      "metadata": {
        "id": "5CAsW7mnj4kt",
        "outputId": "93294fc6-b9e1-4042-dafa-b58db1418eaa"
      },
      "source": [
        "# clear, menghapus semua elemen dari list\n",
        "tumpukan_warna.clear()\n",
        "tumpukan_warna"
      ],
      "execution_count": null,
      "outputs": [
        {
          "data": {
            "text/plain": [
              "[]"
            ]
          },
          "execution_count": 36,
          "metadata": {},
          "output_type": "execute_result"
        }
      ]
    },
    {
      "cell_type": "code",
      "metadata": {
        "id": "_Ur2NSuRj4ku"
      },
      "source": [
        "tumpukan_warna = ['Biru', 'Merah', 'Hijau', 'Ungu', 'Hitam']"
      ],
      "execution_count": null,
      "outputs": []
    },
    {
      "cell_type": "code",
      "metadata": {
        "id": "lHCXeJY0j4ku",
        "outputId": "9d02c4ad-faa0-4820-a101-acb878d2f6ee"
      },
      "source": [
        "# len, menghitung jumlah elemen dalam list\n",
        "len(tumpukan_warna)"
      ],
      "execution_count": null,
      "outputs": [
        {
          "data": {
            "text/plain": [
              "5"
            ]
          },
          "execution_count": 38,
          "metadata": {},
          "output_type": "execute_result"
        }
      ]
    },
    {
      "cell_type": "code",
      "metadata": {
        "id": "KHsIpoXoj4ku",
        "outputId": "d2770160-6a4a-4114-d7b8-83f14c528c39"
      },
      "source": [
        "# insert, memasukkan elemen baru pada urutan tertentu\n",
        "tumpukan_warna.insert(0, 'Orange')\n",
        "tumpukan_warna"
      ],
      "execution_count": null,
      "outputs": [
        {
          "data": {
            "text/plain": [
              "['Orange', 'Biru', 'Merah', 'Hijau', 'Ungu', 'Hitam']"
            ]
          },
          "execution_count": 39,
          "metadata": {},
          "output_type": "execute_result"
        }
      ]
    },
    {
      "cell_type": "code",
      "metadata": {
        "id": "x0SDAY59xe3o"
      },
      "source": [
        ""
      ],
      "execution_count": null,
      "outputs": []
    },
    {
      "cell_type": "code",
      "metadata": {
        "id": "s9EpdW4Hj4kv",
        "outputId": "f8d4822b-922c-4a39-ae72-df98dad32750"
      },
      "source": [
        "# remove, menghapus elemen dengan nilai tertentu\n",
        "tumpukan_warna.remove('Orange')\n",
        "tumpukan_warna"
      ],
      "execution_count": null,
      "outputs": [
        {
          "data": {
            "text/plain": [
              "['Biru', 'Merah', 'Hijau', 'Ungu', 'Hitam']"
            ]
          },
          "execution_count": 40,
          "metadata": {},
          "output_type": "execute_result"
        }
      ]
    },
    {
      "cell_type": "code",
      "metadata": {
        "id": "aKNVtL0Xj4kw",
        "outputId": "1d9c6268-2e6d-4e2c-f464-188a19a91049"
      },
      "source": [
        "# reverse, membalik urutan elemen dalam list\n",
        "tumpukan_warna.reverse()\n",
        "tumpukan_warna"
      ],
      "execution_count": null,
      "outputs": [
        {
          "data": {
            "text/plain": [
              "['Hitam', 'Ungu', 'Hijau', 'Merah', 'Biru']"
            ]
          },
          "execution_count": 43,
          "metadata": {},
          "output_type": "execute_result"
        }
      ]
    },
    {
      "cell_type": "code",
      "metadata": {
        "id": "Q9PQvEvzj4kx",
        "outputId": "62a71883-a7ea-4148-c8a1-f484b22bcfa9"
      },
      "source": [
        "# pop, menghapus elemen terakhir dari list\n",
        "tumpukan_warna.pop()\n",
        "tumpukan_warna"
      ],
      "execution_count": null,
      "outputs": [
        {
          "data": {
            "text/plain": [
              "['Hitam', 'Ungu', 'Hijau', 'Merah']"
            ]
          },
          "execution_count": 44,
          "metadata": {},
          "output_type": "execute_result"
        }
      ]
    },
    {
      "cell_type": "code",
      "metadata": {
        "id": "JsPQ94yGj4ky",
        "outputId": "93b828ad-5401-4066-93a6-b7688bb6da35"
      },
      "source": [
        "# count, menghitung jumlah elemen dengan nilai tertentu\n",
        "tumpukan_warna.count('Hitam') # Coba ubah dengan nilai yang lain"
      ],
      "execution_count": null,
      "outputs": [
        {
          "data": {
            "text/plain": [
              "1"
            ]
          },
          "execution_count": 45,
          "metadata": {},
          "output_type": "execute_result"
        }
      ]
    },
    {
      "cell_type": "code",
      "metadata": {
        "id": "k6p-NBKoj4kz",
        "outputId": "1c242420-458a-4c2c-ad38-aa289bfee367"
      },
      "source": [
        "# copy, menduplikat elemen dalam list ke dalam variabel baru\n",
        "tumpukan_warna2 = tumpukan_warna.copy()\n",
        "tumpukan_warna2"
      ],
      "execution_count": null,
      "outputs": [
        {
          "data": {
            "text/plain": [
              "['Hitam', 'Ungu', 'Hijau', 'Merah']"
            ]
          },
          "execution_count": 46,
          "metadata": {},
          "output_type": "execute_result"
        }
      ]
    },
    {
      "cell_type": "code",
      "metadata": {
        "id": "IUYtsmX2j4kz",
        "outputId": "f07ecde5-d4a9-49c4-fb11-3ed8c7e2b139"
      },
      "source": [
        "# Perbedaan fungsi copy dan re-assignment \n",
        "a = [1,2,3]\n",
        "\n",
        "\n",
        "# Isi b sama dengan a, tapi sebenarnya b hanya melakukan copy identitas objek a\n",
        "b = a\n",
        "c = a.copy()\n",
        "# Apabila a[0] kita ubah, maka b[0] pun berubah\n",
        "a[0] = 100\n",
        "\n",
        "# Fungsi id() dapat digunakan untuk mengetahui identitas dari suatu objek\n",
        "print(\"ID a:\", id(b))\n",
        "print(\"ID b:\", id(a))\n",
        "print(\"a:\", a)\n",
        "print(\"b:\", b)\n",
        "\n",
        "print(\"ID c:\", id(c))\n",
        "print(\"c:\", c)"
      ],
      "execution_count": null,
      "outputs": [
        {
          "name": "stdout",
          "output_type": "stream",
          "text": [
            "ID a: 1781257105792\n",
            "ID b: 1781257105792\n",
            "a: [100, 2, 3]\n",
            "b: [100, 2, 3]\n",
            "ID c: 1781257567680\n",
            "c: [1, 2, 3]\n"
          ]
        }
      ]
    },
    {
      "cell_type": "markdown",
      "metadata": {
        "id": "j_ibCI3qj4k0"
      },
      "source": [
        "## Stack (Tumpukan)"
      ]
    },
    {
      "cell_type": "code",
      "metadata": {
        "id": "V1UTz9blj4k0"
      },
      "source": [
        "angka = [1,3,5,3,3,5]"
      ],
      "execution_count": null,
      "outputs": []
    },
    {
      "cell_type": "code",
      "metadata": {
        "id": "C3Ny4Gdnj4k0",
        "outputId": "696f8d5d-c03e-45f1-da1b-e6c19e7b39bc"
      },
      "source": [
        "# Stack -> First In Last Out\n",
        "lemari = [\"Sarung\", \"Celana Dasar\", \n",
        "        \"Kemeja Putih\", \"Selimut\"]\n",
        "lemari.append(\"Jaket Hoodie\")\n",
        "print(lemari)"
      ],
      "execution_count": null,
      "outputs": [
        {
          "name": "stdout",
          "output_type": "stream",
          "text": [
            "['Sarung', 'Celana Dasar', 'Kemeja Putih', 'Selimut']\n"
          ]
        }
      ]
    },
    {
      "cell_type": "code",
      "metadata": {
        "id": "u9Knuyymj4k1",
        "outputId": "225ef6d3-cdb8-4794-e9f9-410e354eb7a4"
      },
      "source": [
        "# Stack -> First In Last Out\n",
        "lemari = [\"Sarung\", \"Celana Dasar\"\n",
        "          , \"Kemeja Putih\", \"Selimut\"\n",
        "          , \"Jaket Hoodie\"\n",
        "         ]\n",
        "\n",
        "lemari.pop()\n",
        "print(lemari)"
      ],
      "execution_count": null,
      "outputs": [
        {
          "name": "stdout",
          "output_type": "stream",
          "text": [
            "['Sarung', 'Celana Dasar', 'Kemeja Putih', 'Selimut']\n"
          ]
        }
      ]
    },
    {
      "cell_type": "markdown",
      "metadata": {
        "id": "Ez0HhI01j4k1"
      },
      "source": [
        "## Queue (read: qiu)\n",
        "- TODO: Teori dan ilustrasi"
      ]
    },
    {
      "cell_type": "code",
      "metadata": {
        "id": "70DOHb6Rj4k2",
        "outputId": "55002ed0-b458-47bc-8067-1beec508f570"
      },
      "source": [
        "# Queue -> First in First Out\n",
        "antrian_vaksin = [\"Andy\", \"Bobby\", \n",
        "                  \"Caca\", \"Doni\",\n",
        "                  \"Erna\"\n",
        "                 ]\n",
        "antrian_vaksin.append(\"Fani\")\n",
        "print(antrian_vaksin)"
      ],
      "execution_count": null,
      "outputs": [
        {
          "data": {
            "text/plain": [
              "['Andy', 'Bobby', 'Caca', 'Doni', 'Erna', 'Fani']"
            ]
          },
          "execution_count": 15,
          "metadata": {},
          "output_type": "execute_result"
        }
      ]
    },
    {
      "cell_type": "code",
      "metadata": {
        "id": "IuVj-512j4k2",
        "outputId": "266094ab-c860-4c09-caab-3e29d6755c1a"
      },
      "source": [
        "antrian_vaksin = [\"Andy\", \"Bobby\", \n",
        "                  \"Caca\", \"Doni\",\n",
        "                  \"Erna\", \"Fani\"\n",
        "                 ]\n",
        "antrian_vaksin.pop(0)\n",
        "print(antrian_vaksin)"
      ],
      "execution_count": null,
      "outputs": [
        {
          "name": "stdout",
          "output_type": "stream",
          "text": [
            "['Bobby', 'Caca', 'Doni', 'Erna', 'Fani']\n"
          ]
        }
      ]
    },
    {
      "cell_type": "markdown",
      "metadata": {
        "id": "8Wk1mAaij4k2"
      },
      "source": [
        "# Activity\n",
        "## 1. Code Refactoring\n",
        "### 1.1 Ubah gaya penulisan kode program berikut sesuai dengan standar PEP8"
      ]
    },
    {
      "cell_type": "code",
      "metadata": {
        "colab": {
          "base_uri": "https://localhost:8080/"
        },
        "id": "cWggYXtLuSwS",
        "outputId": "43562802-0a94-4c6e-f384-8e52b40784ed"
      },
      "source": [
        "#program untuk menghitung luas dan keliling lingkaran\n",
        "Pi = 3.14\n",
        "\n",
        "def HitungLuasLingkaran(jari_jari):\n",
        "    l = Pi * jari_jari**2\n",
        "    return l\n",
        "\n",
        "def HitungKelilingLingkaran(jari_jari):\n",
        "    kllng = 2 * Pi * jari_jari\n",
        "    return kllng\n",
        "\n",
        "def tampilkan_menu():\n",
        "    print('')\n",
        "    print(\"----------------------------------------------------\")\n",
        "    print( 'Program untuk menghitung luas dan keliling lingkaran')\n",
        "    print( 'Mau ngitung apa nih bre?')\n",
        "    print( '1. Luas Lingkaran')\n",
        "    print( '2. Keliling Lingkaran')\n",
        "    print( '3. Stop Program')\n",
        "    print('')\n",
        "\n",
        "\n",
        "pil = 'bukan 3'\n",
        "while pil != 3:\n",
        "    tampilkan_menu()\n",
        "    pil = input ('Pilihan:')\n",
        "\n",
        "    if pil=='1':\n",
        "        jari_jari = input('Jari Jari:')\n",
        "        jari_jari = float(jari_jari)\n",
        "        hasil = HitungLuasLingkaran(jari_jari)\n",
        "        print(\"Luas Lingkaran:\", hasil )\n",
        "\n",
        "    elif pil== '2':\n",
        "        jari_jari=input ('Jari Jari:')\n",
        "        jari_jari=float (jari_jari)\n",
        "        hsl=HitungKelilingLingkaran(jari_jari)\n",
        "        print(\"Keliling Lingkaran:\", hsl )\n",
        "\n",
        "    elif pil=='3':\n",
        "        print( \"TERIMA KASIH SUDAH MENGGUNAKAN PROGRAM KAMI\")\n",
        "        break\n",
        "\n",
        "    else:\n",
        "        print('Pilihan tidak tersedia')\n",
        "        tampilkan_menu ()"
      ],
      "execution_count": null,
      "outputs": [
        {
          "name": "stdout",
          "output_type": "stream",
          "text": [
            "\n",
            "----------------------------------------------------\n",
            "Program untuk menghitung luas dan keliling lingkaran\n",
            "Mau ngitung apa nih bre?\n",
            "1. Luas Lingkaran\n",
            "2. Keliling Lingkaran\n",
            "3. Stop Program\n",
            "\n",
            "Pilihan:2\n",
            "Jari Jari:34\n",
            "Keliling Lingkaran: 213.52\n",
            "\n",
            "----------------------------------------------------\n",
            "Program untuk menghitung luas dan keliling lingkaran\n",
            "Mau ngitung apa nih bre?\n",
            "1. Luas Lingkaran\n",
            "2. Keliling Lingkaran\n",
            "3. Stop Program\n",
            "\n",
            "Pilihan:1\n",
            "Jari Jari:34\n",
            "Luas Lingkaran: 3629.84\n",
            "\n",
            "----------------------------------------------------\n",
            "Program untuk menghitung luas dan keliling lingkaran\n",
            "Mau ngitung apa nih bre?\n",
            "1. Luas Lingkaran\n",
            "2. Keliling Lingkaran\n",
            "3. Stop Program\n",
            "\n",
            "Pilihan:3\n",
            "TERIMA KASIH SUDAH MENGGUNAKAN PROGRAM KAMI\n"
          ]
        }
      ]
    },
    {
      "cell_type": "markdown",
      "metadata": {
        "id": "EI3tFPZD3ejW"
      },
      "source": [
        "### 1.2 Ubah gaya penulisan kode program berikut sesuai dengan standar PEP8"
      ]
    },
    {
      "cell_type": "code",
      "metadata": {
        "colab": {
          "base_uri": "https://localhost:8080/"
        },
        "id": "vqqf6y-oySiq",
        "outputId": "76c42650-089e-4bc0-cce1-88967b7b4fd4"
      },
      "source": [
        "# Main Layangan\n",
        "# Requirement:\n",
        "# - Gak Hujan\n",
        "# - Kecepatan Angin 5 - 30 km/s\n",
        "\n",
        "#Clues:\n",
        "# - Naming variable dan function, whitespace, komentar\n",
        "# - Terdapat kode duplikat, coba perbaiki\n",
        "\n",
        "def main_layangan():\n",
        "  hujan = input (\"lagi ujan ga? (y/n)\")\n",
        "  if hujan =='y' or hujan== 'Y':\n",
        "    hujan = True\n",
        "  else:\n",
        "    hujan =False\n",
        "\n",
        "  kecepatan__angin = int( input ('masukkan kecepatan angin'))\n",
        "\n",
        "  if hujan == True:\n",
        "    print('Gak bisa main layangan')\n",
        "    return False\n",
        "  else:\n",
        "    if kecepatan__angin >=5 and kecepatan__angin<= 30:\n",
        "      print( 'Asiik, gass main layangan')\n",
        "      return True\n",
        "    else:\n",
        "      print('Skip, mending main ep ep' )\n",
        "      return False\n",
        "\n",
        "capek = main_layangan()\n",
        "\n",
        "if capek ==True:\n",
        "  print(\"Istirahat\" )\n",
        "else:\n",
        "  print (\"Gass main ep ep\")"
      ],
      "execution_count": null,
      "outputs": [
        {
          "name": "stdout",
          "output_type": "stream",
          "text": [
            "lagi ujan ga? (y/n)y\n",
            "masukkan kecepatan angin23\n",
            "Gak bisa main layangan\n",
            "Gass main ep ep\n"
          ]
        }
      ]
    },
    {
      "cell_type": "markdown",
      "metadata": {
        "id": "T_62CS4pvl3O"
      },
      "source": [
        "## 2. Memilih delegasi Tim Sudirman Cup dari Indonesia\n",
        "\n",
        "Berikut adalah data nama pemain bulu tangkis Indonesia beserta medali yang sudah diraih selama 2020 - 2021: \n"
      ]
    },
    {
      "cell_type": "code",
      "metadata": {
        "id": "S-IH1y1Uj4k3"
      },
      "source": [
        "pemain_dan_medali = [[7, \"Ginting\"], [5, \"Jonathan C.\"], [9,\" Hendra\"], [9,\" Ahsan\"], [8, \"Markus\"], [8, \"Kevin\"], [4, \"Gregoria\"], \n",
        "                     [6, \"Praven\"], [6, \"Melati\"], [7, \"Greysia\"], [7, \"Apriani\"], [5, \"Putri\"], [5, \"Rian\"], [5, \"Fajar\"]]"
      ],
      "execution_count": null,
      "outputs": []
    },
    {
      "cell_type": "markdown",
      "metadata": {
        "id": "xmKFzuRgxB_S"
      },
      "source": [
        "> Buatlah program seleksi pemain bulu tangkis untuk Tim Sudirman dengan menerapkan konsep `Clean Code`"
      ]
    },
    {
      "cell_type": "code",
      "metadata": {
        "id": "dXKm2My10I5i",
        "colab": {
          "base_uri": "https://localhost:8080/"
        },
        "outputId": "e52faf03-99ff-47e0-a374-b18bd90c17d2"
      },
      "source": [
        "# Buat list baru dengan mengurutkan list diatas berdasarkan medali yang diraih dari yang paling banyak\n",
        "\n",
        "sort_list = (sorted(pemain_dan_medali, reverse=True))\n",
        "sort_list"
      ],
      "execution_count": null,
      "outputs": [
        {
          "output_type": "execute_result",
          "data": {
            "text/plain": [
              "[[9, ' Hendra'],\n",
              " [9, ' Ahsan'],\n",
              " [8, 'Markus'],\n",
              " [8, 'Kevin'],\n",
              " [7, 'Greysia'],\n",
              " [7, 'Ginting'],\n",
              " [7, 'Apriani'],\n",
              " [6, 'Praven'],\n",
              " [6, 'Melati'],\n",
              " [5, 'Rian'],\n",
              " [5, 'Putri'],\n",
              " [5, 'Jonathan C.'],\n",
              " [5, 'Fajar'],\n",
              " [4, 'Gregoria']]"
            ]
          },
          "metadata": {},
          "execution_count": 16
        }
      ]
    },
    {
      "cell_type": "code",
      "metadata": {
        "id": "tiybf3yDwy2P",
        "colab": {
          "base_uri": "https://localhost:8080/"
        },
        "outputId": "7debaa39-146c-4733-f9d2-72432a70163d"
      },
      "source": [
        "# Dengan looping, buatlah 2 list terpisah dari pemain dan juga medalinya, namun urutannya harus tetap sama dengan yang diatas\n",
        "atlet, medali = zip(*sort_list)\n",
        "\n",
        "for atlet, medali in zip(atlet, medali):\n",
        "        print(f'atlet: {atlet}')\n",
        "        print(f'medali: {medali}')\n"
      ],
      "execution_count": null,
      "outputs": [
        {
          "output_type": "stream",
          "name": "stdout",
          "text": [
            "atlet: 9\n",
            "medali:  Hendra\n",
            "atlet: 9\n",
            "medali:  Ahsan\n",
            "atlet: 8\n",
            "medali: Markus\n",
            "atlet: 8\n",
            "medali: Kevin\n",
            "atlet: 7\n",
            "medali: Greysia\n",
            "atlet: 7\n",
            "medali: Ginting\n",
            "atlet: 7\n",
            "medali: Apriani\n",
            "atlet: 6\n",
            "medali: Praven\n",
            "atlet: 6\n",
            "medali: Melati\n",
            "atlet: 5\n",
            "medali: Rian\n",
            "atlet: 5\n",
            "medali: Putri\n",
            "atlet: 5\n",
            "medali: Jonathan C.\n",
            "atlet: 5\n",
            "medali: Fajar\n",
            "atlet: 4\n",
            "medali: Gregoria\n"
          ]
        }
      ]
    },
    {
      "cell_type": "code",
      "metadata": {
        "id": "V6tNQIrKNYnx"
      },
      "source": [
        ""
      ],
      "execution_count": null,
      "outputs": []
    },
    {
      "cell_type": "markdown",
      "metadata": {
        "id": "dix7KA7P04RL"
      },
      "source": [
        "Misalkan Rio dan Dewi adalah pemain baru dengan perolehan medali : [2, \"Rio\"], [5, \"Dewi\"]. Jika maksimal 1 tim hanya 14 pemain, buatlah fungsi baru yang dapat memeriksa apakah Rio dan Dewi bisa menjadi pemain baru jika dibandingkan perolehan medalinya dengan squad tim saat ini. Output:\n",
        "\n",
        "\"Nama\" layak/tidak layak bergabung\n",
        "Tim Sudirman cup indonesia = \"list pemain yg layak\""
      ]
    },
    {
      "cell_type": "code",
      "metadata": {
        "id": "1cBNHZ4PyPon",
        "colab": {
          "base_uri": "https://localhost:8080/"
        },
        "outputId": "5560d26b-a069-4960-c031-d32a4f449775"
      },
      "source": [
        "# Bikin fungsinya disini\n",
        "baru = [2, \"Rio\"],[5, \"Dewi\"]\n",
        "\n",
        "sort_list.append(baru) \n",
        "\n",
        "sort_list\n"
      ],
      "execution_count": null,
      "outputs": [
        {
          "output_type": "execute_result",
          "data": {
            "text/plain": [
              "[[9, ' Hendra'],\n",
              " [9, ' Ahsan'],\n",
              " [8, 'Markus'],\n",
              " [8, 'Kevin'],\n",
              " [7, 'Greysia'],\n",
              " [7, 'Ginting'],\n",
              " [7, 'Apriani'],\n",
              " [6, 'Praven'],\n",
              " [6, 'Melati'],\n",
              " [5, 'Rian'],\n",
              " [5, 'Putri'],\n",
              " [5, 'Jonathan C.'],\n",
              " [5, 'Fajar'],\n",
              " [4, 'Gregoria'],\n",
              " [[2, 'Rio'], [5, 'Dewi']],\n",
              " [[2, 'Rio'], [5, 'Dewi']],\n",
              " ([2, 'Rio'], [5, 'Dewi']),\n",
              " [[2, 'Rio'], [5, 'Dewi']],\n",
              " ([2, 'Rio'], [5, 'Dewi']),\n",
              " ([2, 'Rio'], [5, 'Dewi']),\n",
              " ([2, 'Rio'], [5, 'Dewi'])]"
            ]
          },
          "metadata": {},
          "execution_count": 43
        }
      ]
    },
    {
      "cell_type": "code",
      "metadata": {
        "id": "dB11uxaHRVg6"
      },
      "source": [
        ""
      ],
      "execution_count": null,
      "outputs": []
    },
    {
      "cell_type": "code",
      "metadata": {
        "id": "ixj0xTHI7k4B"
      },
      "source": [
        ""
      ],
      "execution_count": null,
      "outputs": []
    },
    {
      "cell_type": "code",
      "metadata": {
        "id": "gDydIlG367tg"
      },
      "source": [
        ""
      ],
      "execution_count": null,
      "outputs": []
    }
  ]
}